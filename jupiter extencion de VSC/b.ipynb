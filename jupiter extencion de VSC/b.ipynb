{
 "cells": [
  {
   "cell_type": "code",
   "execution_count": null,
   "metadata": {},
   "outputs": [],
   "source": [
    "#condicionales"
   ]
  },
  {
   "cell_type": "code",
   "execution_count": 8,
   "metadata": {},
   "outputs": [],
   "source": [
    "edad = 14\n",
    "genero = \"mujer\"\n",
    "importe = 800"
   ]
  },
  {
   "cell_type": "code",
   "execution_count": 2,
   "metadata": {},
   "outputs": [
    {
     "name": "stdout",
     "output_type": "stream",
     "text": [
      "14\n",
      "mujer\n",
      "800\n"
     ]
    }
   ],
   "source": [
    "print(edad)\n",
    "print(genero)\n",
    "print(importe)\n",
    "\n"
   ]
  },
  {
   "cell_type": "code",
   "execution_count": 7,
   "metadata": {},
   "outputs": [
    {
     "name": "stdout",
     "output_type": "stream",
     "text": [
      "ingreso\n"
     ]
    }
   ],
   "source": [
    "if 15 > edad and (genero or importe):\n",
    "    print(\"ingreso\")\n",
    "else:\n",
    "    print(\"no ingreso\")"
   ]
  },
  {
   "cell_type": "code",
   "execution_count": null,
   "metadata": {},
   "outputs": [],
   "source": [
    "#funciones"
   ]
  },
  {
   "cell_type": "code",
   "execution_count": 5,
   "metadata": {},
   "outputs": [],
   "source": [
    "num1 = int (input (\"ingrese un numero entero:\"))\n",
    "num2 = int (input (\"ingrese otro numero entero: \"))"
   ]
  },
  {
   "cell_type": "code",
   "execution_count": 6,
   "metadata": {},
   "outputs": [],
   "source": [
    "def suma(a,b):\n",
    "    ResultadoSuma = a + b\n",
    "    print(ResultadoSuma)\n",
    "    return (ResultadoSuma)\n",
    "\n"
   ]
  },
  {
   "cell_type": "code",
   "execution_count": 7,
   "metadata": {},
   "outputs": [
    {
     "name": "stdout",
     "output_type": "stream",
     "text": [
      "2\n",
      "3\n"
     ]
    }
   ],
   "source": [
    "ResultadSuma = suma (num1, num2)\n",
    "ResultadoFinal = ResultadSuma + num1\n",
    "print(ResultadoFinal)"
   ]
  },
  {
   "cell_type": "code",
   "execution_count": null,
   "metadata": {},
   "outputs": [],
   "source": [
    "#concatenar(utiliza funciones)"
   ]
  },
  {
   "cell_type": "code",
   "execution_count": 12,
   "metadata": {},
   "outputs": [],
   "source": [
    "nombre = (input(\"ingrese su nombre: \"))\n",
    "edad = (input(\"ingrese su edad \"))"
   ]
  },
  {
   "cell_type": "code",
   "execution_count": 13,
   "metadata": {},
   "outputs": [],
   "source": [
    "def presentacion(a,b):\n",
    "    nombreEdad = \"Mi nombre es \" + a + \" y tengo \" + b + \" años\"\n",
    "    return(nombreEdad)"
   ]
  },
  {
   "cell_type": "code",
   "execution_count": 14,
   "metadata": {},
   "outputs": [
    {
     "name": "stdout",
     "output_type": "stream",
     "text": [
      "Mi nombre es ibjbask y tengo 128y94 años\n"
     ]
    }
   ],
   "source": [
    "frase = presentacion(nombre,edad)\n",
    "print(frase)"
   ]
  },
  {
   "cell_type": "code",
   "execution_count": null,
   "metadata": {},
   "outputs": [],
   "source": [
    "#calculo de area y perimetro de una circunferencia"
   ]
  },
  {
   "cell_type": "code",
   "execution_count": 20,
   "metadata": {},
   "outputs": [],
   "source": [
    "import math\n",
    "radio = int(input(\"ingrese el radio de su circulo: \"))"
   ]
  },
  {
   "cell_type": "code",
   "execution_count": 21,
   "metadata": {},
   "outputs": [],
   "source": [
    "def areadelcirculo(radio):\n",
    "    resultado_area = math.pi * radio**2\n",
    "    return(resultado_area)"
   ]
  },
  {
   "cell_type": "code",
   "execution_count": 22,
   "metadata": {},
   "outputs": [],
   "source": [
    "def perimetrodelcirculo(radio):\n",
    "    resultado_perimetro = 2 * math.pi * radio\n",
    "    return (resultado_perimetro)"
   ]
  },
  {
   "cell_type": "code",
   "execution_count": 23,
   "metadata": {},
   "outputs": [
    {
     "name": "stdout",
     "output_type": "stream",
     "text": [
      "el area de tu circulo es:  12.566370614359172\n",
      "el perimetro de tu circulo es:  12.566370614359172\n"
     ]
    }
   ],
   "source": [
    "print(\"el area de tu circulo es: \", areadelcirculo(radio))\n",
    "print(\"el perimetro de tu circulo es: \", perimetrodelcirculo(radio))"
   ]
  }
 ],
 "metadata": {
  "kernelspec": {
   "display_name": "Python 3",
   "language": "python",
   "name": "python3"
  },
  "language_info": {
   "codemirror_mode": {
    "name": "ipython",
    "version": 3
   },
   "file_extension": ".py",
   "mimetype": "text/x-python",
   "name": "python",
   "nbconvert_exporter": "python",
   "pygments_lexer": "ipython3",
   "version": "3.11.1 (tags/v3.11.1:a7a450f, Dec  6 2022, 19:58:39) [MSC v.1934 64 bit (AMD64)]"
  },
  "orig_nbformat": 4,
  "vscode": {
   "interpreter": {
    "hash": "365e1b9c1e4e6ca96f23ece7464c90052383fbb94adb99969243963eacca2919"
   }
  }
 },
 "nbformat": 4,
 "nbformat_minor": 2
}
