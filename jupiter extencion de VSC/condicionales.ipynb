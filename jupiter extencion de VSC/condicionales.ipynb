{
 "cells": [
  {
   "cell_type": "code",
   "execution_count": null,
   "metadata": {},
   "outputs": [],
   "source": [
    "edad = 14\n",
    "genero = \"mujer\"\n",
    "importe = 800"
   ]
  },
  {
   "cell_type": "code",
   "execution_count": null,
   "metadata": {},
   "outputs": [],
   "source": [
    "print(edad)\n",
    "print(genero)\n",
    "print(importe)"
   ]
  },
  {
   "cell_type": "code",
   "execution_count": null,
   "metadata": {},
   "outputs": [],
   "source": [
    "if 15 > edad and (genero or importe):\n",
    "    print(\"ingreso\")\n",
    "else:\n",
    "    print(\"no ingreso\")"
   ]
  }
 ],
 "metadata": {
  "kernelspec": {
   "display_name": "Python 3",
   "language": "python",
   "name": "python3"
  },
  "language_info": {
   "name": "python",
   "version": "3.11.1 (tags/v3.11.1:a7a450f, Dec  6 2022, 19:58:39) [MSC v.1934 64 bit (AMD64)]"
  },
  "orig_nbformat": 4,
  "vscode": {
   "interpreter": {
    "hash": "365e1b9c1e4e6ca96f23ece7464c90052383fbb94adb99969243963eacca2919"
   }
  }
 },
 "nbformat": 4,
 "nbformat_minor": 2
}
